{
 "cells": [
  {
   "cell_type": "code",
   "execution_count": null,
   "id": "ac330704",
   "metadata": {},
   "outputs": [],
   "source": [
    "print('starting imports')\n",
    "import numpy as np\n",
    "import holoviews as hv\n",
    "from holoviews import dim\n",
    "hv.extension('bokeh')\n",
    "#hv.extension('matplotlib')\n",
    "import random\n",
    "\n",
    "from holoviews import opts\n",
    "from holoviews.operation.datashader import datashade, shade, dynspread, spread\n",
    "from holoviews.operation.datashader import rasterize, ResamplingOperation\n",
    "\n",
    "POINTS_COUNT_TARGET = 20000\n",
    "ITERATIONS_BETWEEN_DISPLAY_UPDATES=20  # try 10 or 100\n",
    "\n"
   ]
  },
  {
   "cell_type": "code",
   "execution_count": null,
   "id": "d4cbbd37",
   "metadata": {},
   "outputs": [],
   "source": [
    "rasterize"
   ]
  },
  {
   "cell_type": "code",
   "execution_count": null,
   "id": "58e12aea",
   "metadata": {},
   "outputs": [],
   "source": [
    "# this is triangle only, not polygons generally\n",
    "def generate_triangle_points_2d(iterations):\n",
    "    targets = [(400, 0), (0, 599), (799,599)]\n",
    "    points = []\n",
    "    point = (100,100)\n",
    "    i = 1\n",
    "\n",
    "    while i <= iterations:\n",
    "        target = random.choice(targets)\n",
    "        point = ((point[0]+target[0])/2.0 , (point[1]+target[1])/2.0)\n",
    "        points.append(point)\n",
    "        i = i + 1\n",
    "    return points    \n"
   ]
  },
  {
   "cell_type": "code",
   "execution_count": null,
   "id": "b08f4803",
   "metadata": {},
   "outputs": [],
   "source": [
    "#generate_gasket_points(3, 10)  \n",
    "def make_holoviz_triangle_points_obj(iterations):\n",
    "    return hv.Points(generate_triangle_points_2d(iterations))\n",
    "#    scatter = hv.Scatter(points)  \n",
    "#    scatter.opts(color='k', marker='s', size=.1)"
   ]
  },
  {
   "cell_type": "code",
   "execution_count": null,
   "id": "bdd57e12",
   "metadata": {},
   "outputs": [],
   "source": [
    "# works\n",
    "triangle=hv.DynamicMap(make_holoviz_triangle_points_obj, kdims=['iterations'])\n",
    "triangle.redim.range(iterations=(100,10000))"
   ]
  },
  {
   "cell_type": "code",
   "execution_count": null,
   "id": "a1e48e78",
   "metadata": {},
   "outputs": [],
   "source": [
    "# this cell is copied from SO; it's for finding the points for vertices of n-gons\n",
    "import math\n",
    "\n",
    "# This function gets just one pair of coordinates based on the angle theta\n",
    "def get_circle_coord(theta, x_center, y_center, radius):\n",
    "    x = radius * math.cos(theta) + x_center\n",
    "    y = radius * math.sin(theta) + y_center\n",
    "    return (x,y)\n",
    "\n",
    "# This function gets all the pairs of coordinates\n",
    "def get_all_circle_coords(x_center, y_center, radius, n_points):\n",
    "    thetas = [i/n_points * math.tau for i in range(n_points)]\n",
    "    circle_coords = [get_circle_coord(theta, x_center, y_center, radius) for theta in thetas]\n",
    "    #circle_coords.append([x_center+100, y_center+100])\n",
    "    return circle_coords\n",
    "\n"
   ]
  },
  {
   "cell_type": "code",
   "execution_count": null,
   "id": "73076d8a",
   "metadata": {},
   "outputs": [],
   "source": [
    "# this is my cutting-edge thing MINUS datashader 2022-11-01\n",
    "# general polygons\n",
    "def generate_polygon_points_2d(polygon_order, iterations):\n",
    "    #targets = [(400, 0), (0, 599), (799,599)]\n",
    "    targets = get_all_circle_coords(x_center = 800, \n",
    "                                      y_center = 800,\n",
    "                                      radius = 750,\n",
    "                                      n_points = polygon_order)    \n",
    "    points = []\n",
    "    point = (100,100)\n",
    "    i = 1\n",
    "\n",
    "    while i <= iterations:\n",
    "        target = random.choice(targets)\n",
    "        point = ((point[0]+target[0])/2.0 , (point[1]+target[1])/2.0)\n",
    "        points.append(point)\n",
    "        i = i + 1\n",
    "    return points    \n",
    "\n",
    "def make_holoviz_polygon_points_obj(polygon_vertices, iterations):\n",
    "    points_obj = hv.Points(generate_polygon_points_2d(polygon_vertices,iterations))\n",
    "    points_obj.opts(color='k', size=.1)\n",
    "    return points_obj\n",
    "\n",
    "#    scatter = hv.Scatter(points)  \n",
    "#    scatter.opts(color='k', marker='s', size=.1)\n",
    "\n",
    "# works\n",
    "sierpinksi_gasket_polygon_live_view=hv.DynamicMap(make_holoviz_polygon_points_obj, kdims=['polygon_vertices', 'iterations'])\n",
    "sierpinksi_gasket_polygon_live_view.redim.range(polygon_vertices=(3, 50), iterations=(500,500000))"
   ]
  },
  {
   "cell_type": "code",
   "execution_count": null,
   "id": "06a4206e",
   "metadata": {},
   "outputs": [],
   "source": []
  },
  {
   "cell_type": "code",
   "execution_count": null,
   "id": "2495270b",
   "metadata": {},
   "outputs": [],
   "source": [
    "# datashader!! \n",
    "# works\n",
    "sierpinksi_gasket_polygon_live_view=hv.DynamicMap(make_holoviz_polygon_points_obj, kdims=['polygon_vertices', 'iterations'])\n",
    "rasterize(sierpinksi_gasket_polygon_live_view.redim.range(polygon_vertices=(2, 50), iterations=(10000,1000000))).opts(plot=dict(width=800, height=800))"
   ]
  },
  {
   "cell_type": "code",
   "execution_count": null,
   "id": "5c2b9489",
   "metadata": {},
   "outputs": [],
   "source": [
    "# Using the second function to generate all the pairs of coordinates.\n",
    "get_all_circle_coords(x_center = 400, \n",
    "                                      y_center = 400,\n",
    "                                      radius = 350,\n",
    "                                      n_points = 3)"
   ]
  },
  {
   "cell_type": "code",
   "execution_count": null,
   "id": "50f95278",
   "metadata": {},
   "outputs": [],
   "source": [
    "# general polygons\n",
    "def generate_polygon_points_2d_experiment(polygon_order, iterations):\n",
    "    #targets = [(400, 0), (0, 599), (799,599)]\n",
    "    targets = [(750.0, 400.0),\n",
    " (225.00000000000006, 703.1088913245535),\n",
    " (224.99999999999986, 96.89110867544656)]\n",
    "    points = []\n",
    "    point = (100,100)\n",
    "    i = 1\n",
    "\n",
    "    while i <= iterations:\n",
    "        target = random.choice(targets)\n",
    "        point = ((point[0]+target[0])/2.0 , (point[1]+target[1])/2.0)\n",
    "        points.append(point)\n",
    "        i = i + 1\n",
    "    return points    \n",
    "\n",
    "#generate_gasket_points(3, 10)  \n",
    "def make_holoviz_triangle_points_obj_experiment(iterations):\n",
    "    points_obj = hv.Points(generate_polygon_points_2d_experiment(3,iterations))\n",
    "    points_obj.opts(color='k', size=1)\n",
    "    return points_obj\n",
    "#    scatter = hv.Scatter(points)  \n",
    "#    scatter.opts(color='k', marker='s', size=.1)"
   ]
  },
  {
   "cell_type": "code",
   "execution_count": null,
   "id": "d3019b2c",
   "metadata": {},
   "outputs": [],
   "source": [
    "# works  but obsoleted by the polygon stuff\n",
    "triangle2=hv.DynamicMap(make_holoviz_triangle_points_obj_experiment, kdims=['iterations'])\n",
    "triangle2.redim.range(iterations=(100,10000))"
   ]
  },
  {
   "cell_type": "code",
   "execution_count": null,
   "id": "d726a519",
   "metadata": {},
   "outputs": [],
   "source": [
    "# WIWL:\n",
    "# well, not much has been submmitted to HN regarding Holoviz: https://hn.algolia.com/?q=holoviz\n",
    "# maybe FaceTime with Dave and see if he thinks this is cool and worth a post.\n",
    "# FUTURE DIRECTIONS: make this thing take a lambda for \"next_target_point\" which would maybe contain state about all (or some?) previous targets. Then you can try the full \"Chaos Game\" as described out there on the web.\n",
    "# Aha! John D Cook and Peter Norvig posted some Chaos Game stuff: \n",
    "#.  https://www.johndcook.com/blog/2017/07/08/the-chaos-game-and-the-sierpinski-triangle/?utm_source=feedburner&utm_medium=feed&utm_campaign=Feed%3A+TheEndeavour+%28The+Endeavour%29 \n",
    "#.  https://github.com/norvig/pytudes/blob/main/ipynb/Sierpinski.ipynb\n",
    "# Holoviews is really good for trying to find cool polygons for this -- in fact Peter doesn't mention that a 7-gon has some structure! So I've got that to offer.\n",
    "#    And also I should look to see what people have done with the 3D version -- since I have a pretty cool Matplotlib 3D one in triangle.make.array.3d.py.\n",
    "# And of course there's the above exploration with \"next target\" rules inspired by the \"Chaos Game\" Google search. Some aspects of those rules can be parameterized with a slider or some such, like \"how many steps back do we disallow repeated targets\". There could be others! Ex. move toward the target with some other fraction of the distance, not 1/2. \n",
    "#     Is there other Holoviz interactivity available?\n",
    "# There are rules worth trying that aren't easily defined / adjusted with sliders. ()\n",
    "# Can you interactively change the size of the dots? I guess so, because that's defined in the first function.\n",
    "# OK. How about a measure of \"how much structure is there in these points?\" That would allow for some code to go digging .  I supposed you could use \"distribution of distance to nearest 100 neighbors\". But that would definitely not be invariant of iterations. Or I guess that \"how fractal is this curve\" problem that M and I puzzled on would be good. Take a grid and count squares with no points. Plot that count against grid square size. In a max entropy collection of points this should smoothly change. But with structure there should be cliffs.\n",
    " # Oh wow -- this is great: http://www.oftenpaper.net/sierpinski.htm   So it mentions that using the assigning to the 4 corners of a diamond the 4 basic DNA possibiliities, GATC, then, although the random sierpinski of this is just grey goo, actually chunks of real species DNA creates patterns! Interesting! \n",
    "#.   Idea: What about a 26-gon with each English letter assigned a vertex and made on document corpuses? \n",
    "#.      Well, I have to try this.\n",
    "# Also I want to need to see what 3d shapes work -- and what they produce? I would guess that since 4 points produces sierpinski's pyramid, and 4 is one fewer than the count of dimensions, maybe 5 wouldn't work (because in 2D 4 vertices doesn't work) and 6, 7, 8 would work, (because analogous to 5,6,7).\n",
    "# Oh! That person points out: \n",
    "#.  that of course you can just define a state transition table -- so this would be easier to parameterize.\n",
    "#   you don't have to do proper polygons -- certainly you could try obtuse polygons. (Which of course fill )\n",
    "# https://hardmath123.github.io/chaos-game-fractal-foliage.html  I like, but prob not very relevant.\n",
    "#. need to google search 'publish jupyter notebook online animation' something like that\n",
    "# IDK what Panel adds to Holoviz but it doesn't really matter because what I have is working fine https://panel.holoviz.org/\n",
    "# what I really want, I guess just for internal point experimentation, is \"add a vertex\" and \"move a vertex\" functionality.\n",
    "# Next up: datashader!! \n",
    "\n",
    "\n"
   ]
  },
  {
   "cell_type": "code",
   "execution_count": null,
   "id": "69850dde",
   "metadata": {},
   "outputs": [],
   "source": [
    "pts = generate_polygon_points_2d_experiment(3, 1000)\n",
    "\n"
   ]
  },
  {
   "cell_type": "code",
   "execution_count": null,
   "id": "d3000ed3",
   "metadata": {},
   "outputs": [],
   "source": []
  },
  {
   "cell_type": "code",
   "execution_count": null,
   "id": "7eacc418",
   "metadata": {},
   "outputs": [],
   "source": []
  }
 ],
 "metadata": {
  "kernelspec": {
   "display_name": "Python 3 (ipykernel)",
   "language": "python",
   "name": "python3"
  },
  "language_info": {
   "codemirror_mode": {
    "name": "ipython",
    "version": 3
   },
   "file_extension": ".py",
   "mimetype": "text/x-python",
   "name": "python",
   "nbconvert_exporter": "python",
   "pygments_lexer": "ipython3",
   "version": "3.10.6"
  }
 },
 "nbformat": 4,
 "nbformat_minor": 5
}
